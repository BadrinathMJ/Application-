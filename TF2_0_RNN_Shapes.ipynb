{
  "nbformat": 4,
  "nbformat_minor": 0,
  "metadata": {
    "colab": {
      "provenance": [],
      "authorship_tag": "ABX9TyMf7oNWnOVAUE5eMjHDQB0H",
      "include_colab_link": true
    },
    "kernelspec": {
      "name": "python3",
      "display_name": "Python 3"
    },
    "language_info": {
      "name": "python"
    }
  },
  "cells": [
    {
      "cell_type": "markdown",
      "metadata": {
        "id": "view-in-github",
        "colab_type": "text"
      },
      "source": [
        "<a href=\"https://colab.research.google.com/github/BadrinathMJ/Application-/blob/main/TF2_0_RNN_Shapes.ipynb\" target=\"_parent\"><img src=\"https://colab.research.google.com/assets/colab-badge.svg\" alt=\"Open In Colab\"/></a>"
      ]
    },
    {
      "cell_type": "code",
      "execution_count": 1,
      "metadata": {
        "id": "4dYVAyzJE6p6"
      },
      "outputs": [],
      "source": [
        "from tensorflow.keras.layers import Input, SimpleRNN, Dense, Flatten\n",
        "from tensorflow.keras.models import Model\n",
        "from tensorflow.keras.optimizers import SGD\n",
        "\n",
        "import numpy as np\n",
        "import pandas as pd\n",
        "import matplotlib.pyplot as plt"
      ]
    },
    {
      "cell_type": "code",
      "source": [
        "#Things should automatically know and memorized\n",
        "#N = No. of samples\n",
        "#T = Sequence length\n",
        "#D = No. of input features\n",
        "#M = No.of hidden units\n",
        "#K = No. of Output units"
      ],
      "metadata": {
        "id": "LLuYAGhHGKxa"
      },
      "execution_count": 2,
      "outputs": []
    },
    {
      "cell_type": "code",
      "source": [
        "#Make some data\n",
        "N = 1\n",
        "T = 10\n",
        "D = 3\n",
        "K = 2\n",
        "X = np.random.randn(N, T, D)\n",
        "X"
      ],
      "metadata": {
        "colab": {
          "base_uri": "https://localhost:8080/"
        },
        "id": "IgCMC5BoG5hk",
        "outputId": "997b7d2a-c834-4b43-8b96-ec8e393df714"
      },
      "execution_count": 4,
      "outputs": [
        {
          "output_type": "execute_result",
          "data": {
            "text/plain": [
              "array([[[-0.4542045 , -0.39104127, -0.84341989],\n",
              "        [ 0.29746081,  0.39041069,  0.60785902],\n",
              "        [-0.45485051, -0.52576543,  0.85366667],\n",
              "        [ 1.25473259, -0.91809292, -1.41549871],\n",
              "        [ 0.0100051 , -0.88152353,  2.4606324 ],\n",
              "        [ 0.5888898 , -0.21186489, -0.96697976],\n",
              "        [-0.69796078, -0.56307342, -0.13280344],\n",
              "        [-1.40579881, -0.44145948,  0.75535158],\n",
              "        [-1.35634755,  0.79801962, -1.37966186],\n",
              "        [-0.01658645, -0.5274032 ,  0.4191787 ]]])"
            ]
          },
          "metadata": {},
          "execution_count": 4
        }
      ]
    },
    {
      "cell_type": "code",
      "source": [
        "#Make RNN\n",
        "M = 5 #no. of hidden units\n",
        "i = Input(shape=(T, D))\n",
        "x = SimpleRNN(M)(i)\n",
        "x = Dense(K)(x)\n",
        "\n",
        "model = Model(i, x)"
      ],
      "metadata": {
        "id": "HvnlO7nDHGAV"
      },
      "execution_count": 5,
      "outputs": []
    },
    {
      "cell_type": "code",
      "source": [
        "#Get the output\n",
        "Yhat = model.predict(X)\n",
        "print(Yhat)"
      ],
      "metadata": {
        "colab": {
          "base_uri": "https://localhost:8080/"
        },
        "id": "CWtiQYJBIJdi",
        "outputId": "d4b0d2bb-cb17-48a0-fe5d-f43152225228"
      },
      "execution_count": 6,
      "outputs": [
        {
          "output_type": "stream",
          "name": "stdout",
          "text": [
            "1/1 [==============================] - 0s 313ms/step\n",
            "[[0.6125359 0.6098406]]\n"
          ]
        }
      ]
    },
    {
      "cell_type": "code",
      "source": [
        "#see if we can replicate this output \n",
        "#get the weight first\n",
        "model.summary()"
      ],
      "metadata": {
        "colab": {
          "base_uri": "https://localhost:8080/"
        },
        "id": "sqi4pFfgISj0",
        "outputId": "1cb364dc-b386-4615-9956-d09be78d0ba7"
      },
      "execution_count": 7,
      "outputs": [
        {
          "output_type": "stream",
          "name": "stdout",
          "text": [
            "Model: \"model\"\n",
            "_________________________________________________________________\n",
            " Layer (type)                Output Shape              Param #   \n",
            "=================================================================\n",
            " input_1 (InputLayer)        [(None, 10, 3)]           0         \n",
            "                                                                 \n",
            " simple_rnn (SimpleRNN)      (None, 5)                 45        \n",
            "                                                                 \n",
            " dense (Dense)               (None, 2)                 12        \n",
            "                                                                 \n",
            "=================================================================\n",
            "Total params: 57\n",
            "Trainable params: 57\n",
            "Non-trainable params: 0\n",
            "_________________________________________________________________\n"
          ]
        }
      ]
    },
    {
      "cell_type": "code",
      "source": [
        "#see what returned \n",
        "model.layers[1].get_weights()"
      ],
      "metadata": {
        "colab": {
          "base_uri": "https://localhost:8080/"
        },
        "id": "-RhgI6RmJFzX",
        "outputId": "9b29a50c-415c-474c-fbdc-c1f612ee31ff"
      },
      "execution_count": 8,
      "outputs": [
        {
          "output_type": "execute_result",
          "data": {
            "text/plain": [
              "[array([[ 0.61692935,  0.4360308 ,  0.43290776, -0.18513823,  0.5667537 ],\n",
              "        [ 0.28621405,  0.8069555 , -0.72557175,  0.48048264,  0.27312177],\n",
              "        [ 0.24212307,  0.8333524 , -0.7363907 , -0.46401185, -0.6086836 ]],\n",
              "       dtype=float32),\n",
              " array([[ 0.06796098, -0.937704  , -0.17892559,  0.19253483,  0.2168143 ],\n",
              "        [ 0.20754704,  0.26563764,  0.18312994,  0.6225068 ,  0.682136  ],\n",
              "        [-0.22173153, -0.20847172,  0.8923313 ,  0.19591254, -0.26969963],\n",
              "        [-0.3897642 , -0.04901618,  0.22190598, -0.6189326 ,  0.642932  ],\n",
              "        [-0.86673206,  0.06545794, -0.29824772,  0.3923728 , -0.03978248]],\n",
              "       dtype=float32),\n",
              " array([0., 0., 0., 0., 0.], dtype=float32)]"
            ]
          },
          "metadata": {},
          "execution_count": 8
        }
      ]
    },
    {
      "cell_type": "code",
      "source": [
        "#check their shapes \n",
        "#should make sense \n",
        "#First output id input>hidden\n",
        "#second output is hidden > hidden\n",
        "#Third output id bias term vector length of M\n",
        "a, b, c = model.layers[1].get_weights()\n",
        "print(a.shape, b.shape, c.shape)"
      ],
      "metadata": {
        "colab": {
          "base_uri": "https://localhost:8080/"
        },
        "id": "K4GhIayZJedm",
        "outputId": "fc42022e-9ea6-4b4d-df2e-0e3133b41f29"
      },
      "execution_count": 9,
      "outputs": [
        {
          "output_type": "stream",
          "name": "stdout",
          "text": [
            "(3, 5) (5, 5) (5,)\n"
          ]
        }
      ]
    },
    {
      "cell_type": "code",
      "source": [
        "Wx, Wh, bh = model.layers[1].get_weights()\n",
        "Wo, bo = model.layers[2].get_weights()"
      ],
      "metadata": {
        "id": "lY8PRnzCKKJE"
      },
      "execution_count": 10,
      "outputs": []
    },
    {
      "cell_type": "code",
      "source": [
        "h_last = np.zeros(M)  #initial hidden state\n",
        "x = X[0]  #the one and only one sample\n",
        "Yhats = []  #where we store the outputs\n",
        "\n",
        "for t in range(T):\n",
        "  h = np.tanh(x[t].dot(Wx) + h_last.dot(Wh) + bh)\n",
        "  y = h.dot(Wo) + bo # We only care about this value on the last iteration\n",
        "  Yhats.append(y)\n",
        "\n",
        "  #important assign h to h_last\n",
        "  h_last = h\n",
        "\n",
        "#print the final output\n",
        "print(Yhats[-1])"
      ],
      "metadata": {
        "colab": {
          "base_uri": "https://localhost:8080/"
        },
        "id": "QWMxVGDNKfah",
        "outputId": "4f7264b1-5d2a-424b-9cb7-df62fd53e998"
      },
      "execution_count": 13,
      "outputs": [
        {
          "output_type": "stream",
          "name": "stdout",
          "text": [
            "[0.61253575 0.60984049]\n"
          ]
        }
      ]
    },
    {
      "cell_type": "code",
      "source": [],
      "metadata": {
        "id": "jWovOhQBMAvB"
      },
      "execution_count": null,
      "outputs": []
    }
  ]
}